{
 "cells": [
  {
   "metadata": {},
   "cell_type": "markdown",
   "source": "",
   "id": "e6eaa3cee86e3d23"
  },
  {
   "metadata": {},
   "cell_type": "markdown",
   "source": [
    "# 1 Dimensional model of tempreture diffusion \n",
    "$$\n",
    "\\frac{\\partial u(x,t)}{\\partial t} = c_p \\frac{\\partial^2 u(x,t)}{\\partial x^2}$$\n",
    "\n",
    "\n"
   ],
   "id": "560b3df055e1bf9f"
  },
  {
   "metadata": {},
   "cell_type": "markdown",
   "source": "",
   "id": "dc1d00af665e358f"
  },
  {
   "metadata": {},
   "cell_type": "markdown",
   "source": "## Library imports",
   "id": "cdab8711afca9223"
  },
  {
   "cell_type": "code",
   "id": "initial_id",
   "metadata": {
    "collapsed": true,
    "ExecuteTime": {
     "end_time": "2025-05-27T16:24:34.325206Z",
     "start_time": "2025-05-27T16:24:34.322581Z"
    }
   },
   "source": [
    "import torch\n",
    "import torch.nn as nn\n",
    "import matplotlib.pyplot as plt\n",
    "import numpy as np\n",
    "\n",
    "# device = torch.device(\"cuda\" if torch.cuda.is_available() else \"cpu\")\n",
    "device = \"cpu\""
   ],
   "outputs": [],
   "execution_count": 44
  },
  {
   "metadata": {},
   "cell_type": "markdown",
   "source": [
    "## PINN definition\n",
    "Here we define classical architecture of PINN that is a feed forward fully connected neural network with tanh() activation function"
   ],
   "id": "a1619fc22525d2b1"
  },
  {
   "metadata": {
    "ExecuteTime": {
     "end_time": "2025-05-27T16:24:35.626038Z",
     "start_time": "2025-05-27T16:24:35.622493Z"
    }
   },
   "cell_type": "code",
   "source": [
    "class termPINN_1D(nn.Module):\n",
    "    def __init__(termPINN_1D, num_hidden = 128, num_layers = 4):\n",
    "        super(PINN, self).__init__()\n",
    "        layers = []\n",
    "        # Input: x,t\n",
    "        layers.append(nn.Linear(2, num_hidden))\n",
    "        layers.append(nn.Tanh())\n",
    "        for _ in range(num_layers - 1):\n",
    "            layers.append(nn.Linear(num_hidden, num_hidden))\n",
    "            layers.append(nn.Tanh())\n",
    "        layers.append(nn.Linear(num_hidden,1))\n",
    "        self.net = nn.Sequential(*layers)\n",
    "        \n",
    "    def forward(self, x):\n",
    "        return self.net(x)"
   ],
   "id": "a187d50f58b16c3c",
   "outputs": [],
   "execution_count": 45
  },
  {
   "metadata": {},
   "cell_type": "markdown",
   "source": "## Definition of collocation points",
   "id": "abde8e173b18fd04"
  },
  {
   "metadata": {
    "ExecuteTime": {
     "end_time": "2025-05-27T16:24:36.893060Z",
     "start_time": "2025-05-27T16:24:36.889974Z"
    }
   },
   "cell_type": "code",
   "source": [
    "def generate_collocation_points(Nx=2**8, Nt = 2**8):\n",
    "    x = torch.linspace(-1,1, Nx)\n",
    "    t = torch.linspace(0,1,Nt)\n",
    "    X, T = torch.meshgrid(x,t, indexing='ij')\n",
    "    points = torch.stack([X.flatten(), T.flatten()], dim=-1)\n",
    "    points.requires_grad_(True)\n",
    "    return points, x,t "
   ],
   "id": "695e1edf6ee32e48",
   "outputs": [],
   "execution_count": 46
  },
  {
   "metadata": {
    "ExecuteTime": {
     "end_time": "2025-05-27T17:13:34.002057Z",
     "start_time": "2025-05-27T17:13:34.000063Z"
    }
   },
   "cell_type": "code",
   "source": [
    "pt,_,_ = generate_collocation_points(Nx=2**8, Nt=2**2)\n",
    "# plt.plot(pt.detach().numpy()[:,0])\n",
    "\n",
    "\n",
    "\n",
    "\n",
    "# print(pt.detach().numpy().shape)"
   ],
   "id": "727e0f80f7cc98c2",
   "outputs": [],
   "execution_count": 64
  },
  {
   "metadata": {},
   "cell_type": "markdown",
   "source": "## Define Partial Differential Equation",
   "id": "21198b78447dae0d"
  },
  {
   "metadata": {
    "ExecuteTime": {
     "end_time": "2025-05-27T17:23:12.771527Z",
     "start_time": "2025-05-27T17:23:12.767032Z"
    }
   },
   "cell_type": "code",
   "source": [
    "def derivative(x,y):\n",
    "    df = torch.autograd.grad(x,y, grad_outputs=torch.ones_like(y).to(device), create_graph = True)[0]\n",
    "    df_x = df[:, 0:1]\n",
    "    df_t = df[:, 1:2]\n",
    "    return df_x, df_t\n",
    "\n",
    "def PDE(model, cp , points):\n",
    "    Temp = model(points)\n",
    "    dT_x, dT_t = derivative(Temp, points)\n",
    "    dT_xx, _ = derivative(dT_x, points)\n",
    "    pde = 1*(cp*dT_xx - dT_t)\n",
    "    return pde\n",
    "\n",
    "## Dirichlet conditions\n",
    "def BC_right(model, right_border):\n",
    "    return model(right_border)\n",
    "    \n",
    "def BC_left(model, left_border):\n",
    "    return model(left_border)    \n",
    "    \n",
    "def IC(model, x_points):\n",
    "    return model(x_points)\n",
    "\n",
    "def compute_bc_ic_loss(model, points):\n",
    "    \n",
    "    \n",
    "    "
   ],
   "id": "66726114b05dcb4c",
   "outputs": [
    {
     "ename": "SyntaxError",
     "evalue": "incomplete input (3362233588.py, line 27)",
     "output_type": "error",
     "traceback": [
      "\u001B[1;36m  Cell \u001B[1;32mIn[82], line 27\u001B[1;36m\u001B[0m\n\u001B[1;33m    \u001B[0m\n\u001B[1;37m    ^\u001B[0m\n\u001B[1;31mSyntaxError\u001B[0m\u001B[1;31m:\u001B[0m incomplete input\n"
     ]
    }
   ],
   "execution_count": 82
  },
  {
   "metadata": {},
   "cell_type": "markdown",
   "source": "## Define border and initial conditions",
   "id": "a8b6a22c1298a66d"
  },
  {
   "metadata": {
    "ExecuteTime": {
     "end_time": "2025-05-27T17:16:05.736260Z",
     "start_time": "2025-05-27T17:16:05.683607Z"
    }
   },
   "cell_type": "code",
   "source": [
    "bc_right = pt[pt[:,0] == -1]\n",
    "bc_left = pt[pt[:,0] == 1]\n",
    "ic = pt[pt[:,1] == 0]\n",
    "sigma = 0.02\n",
    "signal = torch.exp(-ic**2/sigma)\n",
    "print(signal)\n",
    "plt.plot(signal.detach().numpy()[:,0])\n",
    "# print(ic[:,0])"
   ],
   "id": "782fb239c60dbc11",
   "outputs": [
    {
     "name": "stdout",
     "output_type": "stream",
     "text": [
      "tensor([[1.9287e-22, 1.0000e+00],\n",
      "        [4.2127e-22, 1.0000e+00],\n",
      "        [9.1449e-22, 1.0000e+00],\n",
      "        [1.9730e-21, 1.0000e+00],\n",
      "        [4.2305e-21, 1.0000e+00],\n",
      "        [9.0156e-21, 1.0000e+00],\n",
      "        [1.9095e-20, 1.0000e+00],\n",
      "        [4.0196e-20, 1.0000e+00],\n",
      "        [8.4095e-20, 1.0000e+00],\n",
      "        [1.7486e-19, 1.0000e+00],\n",
      "        [3.6135e-19, 1.0000e+00],\n",
      "        [7.4216e-19, 1.0000e+00],\n",
      "        [1.5150e-18, 1.0000e+00],\n",
      "        [3.0735e-18, 1.0000e+00],\n",
      "        [6.1971e-18, 1.0000e+00],\n",
      "        [1.2419e-17, 1.0000e+00],\n",
      "        [2.4734e-17, 1.0000e+00],\n",
      "        [4.8959e-17, 1.0000e+00],\n",
      "        [9.6316e-17, 1.0000e+00],\n",
      "        [1.8832e-16, 1.0000e+00],\n",
      "        [3.6595e-16, 1.0000e+00],\n",
      "        [7.0678e-16, 1.0000e+00],\n",
      "        [1.3567e-15, 1.0000e+00],\n",
      "        [2.5881e-15, 1.0000e+00],\n",
      "        [4.9071e-15, 1.0000e+00],\n",
      "        [9.2468e-15, 1.0000e+00],\n",
      "        [1.7318e-14, 1.0000e+00],\n",
      "        [3.2234e-14, 1.0000e+00],\n",
      "        [5.9631e-14, 1.0000e+00],\n",
      "        [1.0964e-13, 1.0000e+00],\n",
      "        [2.0034e-13, 1.0000e+00],\n",
      "        [3.6384e-13, 1.0000e+00],\n",
      "        [6.5672e-13, 1.0000e+00],\n",
      "        [1.1781e-12, 1.0000e+00],\n",
      "        [2.1004e-12, 1.0000e+00],\n",
      "        [3.7218e-12, 1.0000e+00],\n",
      "        [6.5545e-12, 1.0000e+00],\n",
      "        [1.1472e-11, 1.0000e+00],\n",
      "        [1.9957e-11, 1.0000e+00],\n",
      "        [3.4503e-11, 1.0000e+00],\n",
      "        [5.9287e-11, 1.0000e+00],\n",
      "        [1.0125e-10, 1.0000e+00],\n",
      "        [1.7184e-10, 1.0000e+00],\n",
      "        [2.8988e-10, 1.0000e+00],\n",
      "        [4.8599e-10, 1.0000e+00],\n",
      "        [8.0978e-10, 1.0000e+00],\n",
      "        [1.3410e-09, 1.0000e+00],\n",
      "        [2.2071e-09, 1.0000e+00],\n",
      "        [3.6104e-09, 1.0000e+00],\n",
      "        [5.8696e-09, 1.0000e+00],\n",
      "        [9.4840e-09, 1.0000e+00],\n",
      "        [1.5230e-08, 1.0000e+00],\n",
      "        [2.4307e-08, 1.0000e+00],\n",
      "        [3.8557e-08, 1.0000e+00],\n",
      "        [6.0785e-08, 1.0000e+00],\n",
      "        [9.5241e-08, 1.0000e+00],\n",
      "        [1.4831e-07, 1.0000e+00],\n",
      "        [2.2954e-07, 1.0000e+00],\n",
      "        [3.5307e-07, 1.0000e+00],\n",
      "        [5.3976e-07, 1.0000e+00],\n",
      "        [8.2010e-07, 1.0000e+00],\n",
      "        [1.2384e-06, 1.0000e+00],\n",
      "        [1.8586e-06, 1.0000e+00],\n",
      "        [2.7723e-06, 1.0000e+00],\n",
      "        [4.1097e-06, 1.0000e+00],\n",
      "        [6.0551e-06, 1.0000e+00],\n",
      "        [8.8666e-06, 1.0000e+00],\n",
      "        [1.2904e-05, 1.0000e+00],\n",
      "        [1.8664e-05, 1.0000e+00],\n",
      "        [2.6831e-05, 1.0000e+00],\n",
      "        [3.8334e-05, 1.0000e+00],\n",
      "        [5.4434e-05, 1.0000e+00],\n",
      "        [7.6820e-05, 1.0000e+00],\n",
      "        [1.0775e-04, 1.0000e+00],\n",
      "        [1.5020e-04, 1.0000e+00],\n",
      "        [2.0810e-04, 1.0000e+00],\n",
      "        [2.8654e-04, 1.0000e+00],\n",
      "        [3.9213e-04, 1.0000e+00],\n",
      "        [5.3335e-04, 1.0000e+00],\n",
      "        [7.2097e-04, 1.0000e+00],\n",
      "        [9.6862e-04, 1.0000e+00],\n",
      "        [1.2934e-03, 1.0000e+00],\n",
      "        [1.7164e-03, 1.0000e+00],\n",
      "        [2.2637e-03, 1.0000e+00],\n",
      "        [2.9674e-03, 1.0000e+00],\n",
      "        [3.8659e-03, 1.0000e+00],\n",
      "        [5.0056e-03, 1.0000e+00],\n",
      "        [6.4416e-03, 1.0000e+00],\n",
      "        [8.2386e-03, 1.0000e+00],\n",
      "        [1.0472e-02, 1.0000e+00],\n",
      "        [1.3230e-02, 1.0000e+00],\n",
      "        [1.6612e-02, 1.0000e+00],\n",
      "        [2.0729e-02, 1.0000e+00],\n",
      "        [2.5709e-02, 1.0000e+00],\n",
      "        [3.1690e-02, 1.0000e+00],\n",
      "        [3.8823e-02, 1.0000e+00],\n",
      "        [4.7269e-02, 1.0000e+00],\n",
      "        [5.7200e-02, 1.0000e+00],\n",
      "        [6.8792e-02, 1.0000e+00],\n",
      "        [8.2227e-02, 1.0000e+00],\n",
      "        [9.7683e-02, 1.0000e+00],\n",
      "        [1.1533e-01, 1.0000e+00],\n",
      "        [1.3534e-01, 1.0000e+00],\n",
      "        [1.5783e-01, 1.0000e+00],\n",
      "        [1.8294e-01, 1.0000e+00],\n",
      "        [2.1075e-01, 1.0000e+00],\n",
      "        [2.4129e-01, 1.0000e+00],\n",
      "        [2.7456e-01, 1.0000e+00],\n",
      "        [3.1051e-01, 1.0000e+00],\n",
      "        [3.4900e-01, 1.0000e+00],\n",
      "        [3.8987e-01, 1.0000e+00],\n",
      "        [4.3285e-01, 1.0000e+00],\n",
      "        [4.7762e-01, 1.0000e+00],\n",
      "        [5.2379e-01, 1.0000e+00],\n",
      "        [5.7089e-01, 1.0000e+00],\n",
      "        [6.1842e-01, 1.0000e+00],\n",
      "        [6.6580e-01, 1.0000e+00],\n",
      "        [7.1241e-01, 1.0000e+00],\n",
      "        [7.5761e-01, 1.0000e+00],\n",
      "        [8.0074e-01, 1.0000e+00],\n",
      "        [8.4113e-01, 1.0000e+00],\n",
      "        [8.7814e-01, 1.0000e+00],\n",
      "        [9.1116e-01, 1.0000e+00],\n",
      "        [9.3962e-01, 1.0000e+00],\n",
      "        [9.6302e-01, 1.0000e+00],\n",
      "        [9.8096e-01, 1.0000e+00],\n",
      "        [9.9310e-01, 1.0000e+00],\n",
      "        [9.9923e-01, 1.0000e+00],\n",
      "        [9.9923e-01, 1.0000e+00],\n",
      "        [9.9310e-01, 1.0000e+00],\n",
      "        [9.8096e-01, 1.0000e+00],\n",
      "        [9.6302e-01, 1.0000e+00],\n",
      "        [9.3962e-01, 1.0000e+00],\n",
      "        [9.1116e-01, 1.0000e+00],\n",
      "        [8.7814e-01, 1.0000e+00],\n",
      "        [8.4113e-01, 1.0000e+00],\n",
      "        [8.0074e-01, 1.0000e+00],\n",
      "        [7.5761e-01, 1.0000e+00],\n",
      "        [7.1241e-01, 1.0000e+00],\n",
      "        [6.6580e-01, 1.0000e+00],\n",
      "        [6.1842e-01, 1.0000e+00],\n",
      "        [5.7089e-01, 1.0000e+00],\n",
      "        [5.2379e-01, 1.0000e+00],\n",
      "        [4.7762e-01, 1.0000e+00],\n",
      "        [4.3285e-01, 1.0000e+00],\n",
      "        [3.8987e-01, 1.0000e+00],\n",
      "        [3.4900e-01, 1.0000e+00],\n",
      "        [3.1051e-01, 1.0000e+00],\n",
      "        [2.7456e-01, 1.0000e+00],\n",
      "        [2.4129e-01, 1.0000e+00],\n",
      "        [2.1075e-01, 1.0000e+00],\n",
      "        [1.8294e-01, 1.0000e+00],\n",
      "        [1.5783e-01, 1.0000e+00],\n",
      "        [1.3534e-01, 1.0000e+00],\n",
      "        [1.1533e-01, 1.0000e+00],\n",
      "        [9.7683e-02, 1.0000e+00],\n",
      "        [8.2227e-02, 1.0000e+00],\n",
      "        [6.8792e-02, 1.0000e+00],\n",
      "        [5.7200e-02, 1.0000e+00],\n",
      "        [4.7269e-02, 1.0000e+00],\n",
      "        [3.8823e-02, 1.0000e+00],\n",
      "        [3.1690e-02, 1.0000e+00],\n",
      "        [2.5709e-02, 1.0000e+00],\n",
      "        [2.0729e-02, 1.0000e+00],\n",
      "        [1.6612e-02, 1.0000e+00],\n",
      "        [1.3230e-02, 1.0000e+00],\n",
      "        [1.0472e-02, 1.0000e+00],\n",
      "        [8.2386e-03, 1.0000e+00],\n",
      "        [6.4416e-03, 1.0000e+00],\n",
      "        [5.0056e-03, 1.0000e+00],\n",
      "        [3.8659e-03, 1.0000e+00],\n",
      "        [2.9674e-03, 1.0000e+00],\n",
      "        [2.2637e-03, 1.0000e+00],\n",
      "        [1.7164e-03, 1.0000e+00],\n",
      "        [1.2934e-03, 1.0000e+00],\n",
      "        [9.6862e-04, 1.0000e+00],\n",
      "        [7.2097e-04, 1.0000e+00],\n",
      "        [5.3335e-04, 1.0000e+00],\n",
      "        [3.9213e-04, 1.0000e+00],\n",
      "        [2.8654e-04, 1.0000e+00],\n",
      "        [2.0810e-04, 1.0000e+00],\n",
      "        [1.5020e-04, 1.0000e+00],\n",
      "        [1.0775e-04, 1.0000e+00],\n",
      "        [7.6820e-05, 1.0000e+00],\n",
      "        [5.4434e-05, 1.0000e+00],\n",
      "        [3.8334e-05, 1.0000e+00],\n",
      "        [2.6831e-05, 1.0000e+00],\n",
      "        [1.8664e-05, 1.0000e+00],\n",
      "        [1.2904e-05, 1.0000e+00],\n",
      "        [8.8666e-06, 1.0000e+00],\n",
      "        [6.0551e-06, 1.0000e+00],\n",
      "        [4.1097e-06, 1.0000e+00],\n",
      "        [2.7723e-06, 1.0000e+00],\n",
      "        [1.8586e-06, 1.0000e+00],\n",
      "        [1.2384e-06, 1.0000e+00],\n",
      "        [8.2010e-07, 1.0000e+00],\n",
      "        [5.3976e-07, 1.0000e+00],\n",
      "        [3.5307e-07, 1.0000e+00],\n",
      "        [2.2954e-07, 1.0000e+00],\n",
      "        [1.4831e-07, 1.0000e+00],\n",
      "        [9.5241e-08, 1.0000e+00],\n",
      "        [6.0785e-08, 1.0000e+00],\n",
      "        [3.8557e-08, 1.0000e+00],\n",
      "        [2.4307e-08, 1.0000e+00],\n",
      "        [1.5230e-08, 1.0000e+00],\n",
      "        [9.4840e-09, 1.0000e+00],\n",
      "        [5.8696e-09, 1.0000e+00],\n",
      "        [3.6104e-09, 1.0000e+00],\n",
      "        [2.2071e-09, 1.0000e+00],\n",
      "        [1.3410e-09, 1.0000e+00],\n",
      "        [8.0978e-10, 1.0000e+00],\n",
      "        [4.8599e-10, 1.0000e+00],\n",
      "        [2.8988e-10, 1.0000e+00],\n",
      "        [1.7184e-10, 1.0000e+00],\n",
      "        [1.0125e-10, 1.0000e+00],\n",
      "        [5.9287e-11, 1.0000e+00],\n",
      "        [3.4503e-11, 1.0000e+00],\n",
      "        [1.9957e-11, 1.0000e+00],\n",
      "        [1.1472e-11, 1.0000e+00],\n",
      "        [6.5545e-12, 1.0000e+00],\n",
      "        [3.7218e-12, 1.0000e+00],\n",
      "        [2.1004e-12, 1.0000e+00],\n",
      "        [1.1781e-12, 1.0000e+00],\n",
      "        [6.5672e-13, 1.0000e+00],\n",
      "        [3.6384e-13, 1.0000e+00],\n",
      "        [2.0034e-13, 1.0000e+00],\n",
      "        [1.0964e-13, 1.0000e+00],\n",
      "        [5.9631e-14, 1.0000e+00],\n",
      "        [3.2234e-14, 1.0000e+00],\n",
      "        [1.7318e-14, 1.0000e+00],\n",
      "        [9.2468e-15, 1.0000e+00],\n",
      "        [4.9071e-15, 1.0000e+00],\n",
      "        [2.5881e-15, 1.0000e+00],\n",
      "        [1.3567e-15, 1.0000e+00],\n",
      "        [7.0678e-16, 1.0000e+00],\n",
      "        [3.6595e-16, 1.0000e+00],\n",
      "        [1.8832e-16, 1.0000e+00],\n",
      "        [9.6316e-17, 1.0000e+00],\n",
      "        [4.8959e-17, 1.0000e+00],\n",
      "        [2.4734e-17, 1.0000e+00],\n",
      "        [1.2419e-17, 1.0000e+00],\n",
      "        [6.1971e-18, 1.0000e+00],\n",
      "        [3.0735e-18, 1.0000e+00],\n",
      "        [1.5150e-18, 1.0000e+00],\n",
      "        [7.4216e-19, 1.0000e+00],\n",
      "        [3.6135e-19, 1.0000e+00],\n",
      "        [1.7486e-19, 1.0000e+00],\n",
      "        [8.4095e-20, 1.0000e+00],\n",
      "        [4.0196e-20, 1.0000e+00],\n",
      "        [1.9095e-20, 1.0000e+00],\n",
      "        [9.0156e-21, 1.0000e+00],\n",
      "        [4.2305e-21, 1.0000e+00],\n",
      "        [1.9730e-21, 1.0000e+00],\n",
      "        [9.1449e-22, 1.0000e+00],\n",
      "        [4.2127e-22, 1.0000e+00],\n",
      "        [1.9287e-22, 1.0000e+00]], grad_fn=<ExpBackward0>)\n"
     ]
    },
    {
     "data": {
      "text/plain": [
       "[<matplotlib.lines.Line2D at 0x2433f5e52d0>]"
      ]
     },
     "execution_count": 81,
     "metadata": {},
     "output_type": "execute_result"
    },
    {
     "data": {
      "text/plain": [
       "<Figure size 640x480 with 1 Axes>"
      ],
      "image/png": "[encoded data removed]"
     },
     "metadata": {},
     "output_type": "display_data"
    }
   ],
   "execution_count": 81
  },
  {
   "metadata": {},
   "cell_type": "markdown",
   "source": "## Training PINN",
   "id": "f8adfc625ac2d67"
  },
  {
   "metadata": {},
   "cell_type": "code",
   "outputs": [],
   "execution_count": null,
   "source": [
    "model = termPINN_1D(2,3)\n",
    "optimizer = torch.optim.Adam(model.parameters(), lr=1e-3)\n",
    "epoches = 100\n",
    "points = generate_collocation_points(Nx=2**8, Nt=100)\n",
    "\n",
    "for epoch in range(epoches):\n",
    "    optimizer.zero_grad()\n",
    "    pde_residual = PDE(model, 1, points)\n",
    "    pde_loss = torch.mean(pde_residual**2)\n",
    "    bc_"
   ],
   "id": "5e58a8a6e72861b"
  }
 ],
 "metadata": {
  "kernelspec": {
   "display_name": "Python 3",
   "language": "python",
   "name": "python3"
  },
  "language_info": {
   "codemirror_mode": {
    "name": "ipython",
    "version": 2
   },
   "file_extension": ".py",
   "mimetype": "text/x-python",
   "name": "python",
   "nbconvert_exporter": "python",
   "pygments_lexer": "ipython2",
   "version": "2.7.6"
  }
 },
 "nbformat": 4,
 "nbformat_minor": 5
}
