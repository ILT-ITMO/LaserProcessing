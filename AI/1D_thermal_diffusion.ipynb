{
 "cells": [
  {
   "metadata": {},
   "cell_type": "markdown",
   "source": "",
   "id": "e6eaa3cee86e3d23"
  },
  {
   "metadata": {},
   "cell_type": "markdown",
   "source": [
    "# 1 Dimensional model of tempreture diffusion \n",
    "$$\n",
    "\\frac{\\partial u(x,t)}{\\partial t} = c_p \\frac{\\partial^2 u(x,t)}{\\partial x^2}$$\n",
    "\n",
    "\n"
   ],
   "id": "560b3df055e1bf9f"
  },
  {
   "metadata": {},
   "cell_type": "markdown",
   "source": "",
   "id": "dc1d00af665e358f"
  },
  {
   "metadata": {},
   "cell_type": "markdown",
   "source": "## Library imports",
   "id": "cdab8711afca9223"
  },
  {
   "cell_type": "code",
   "id": "initial_id",
   "metadata": {
    "collapsed": true,
    "ExecuteTime": {
     "end_time": "2025-05-31T06:21:03.785178Z",
     "start_time": "2025-05-31T06:21:03.780307Z"
    }
   },
   "source": [
    "import torch\n",
    "import torch.nn as nn\n",
    "import matplotlib.pyplot as plt\n",
    "import numpy as np\n",
    "\n",
    "# device = torch.device(\"cuda\" if torch.cuda.is_available() else \"cpu\")\n",
    "device = \"cpu\""
   ],
   "outputs": [],
   "execution_count": 225
  },
  {
   "metadata": {},
   "cell_type": "markdown",
   "source": [
    "## PINN definition\n",
    "Here we define classical architecture of PINN that is a feed forward fully connected neural network with tanh() activation function"
   ],
   "id": "a1619fc22525d2b1"
  },
  {
   "metadata": {
    "ExecuteTime": {
     "end_time": "2025-05-31T06:21:03.819254Z",
     "start_time": "2025-05-31T06:21:03.813192Z"
    }
   },
   "cell_type": "code",
   "source": [
    "class termPINN_1D(nn.Module):\n",
    "    def __init__(self, num_hidden = 256, num_layers = 10):\n",
    "        super(termPINN_1D, self).__init__()\n",
    "        layers = []\n",
    "        # Input: x,t\n",
    "        layers.append(nn.Linear(2, num_hidden))\n",
    "        layers.append(nn.Tanh())\n",
    "        for _ in range(num_layers - 1):\n",
    "            layers.append(nn.Linear(num_hidden, num_hidden))\n",
    "            layers.append(nn.Tanh())\n",
    "        layers.append(nn.Linear(num_hidden,1))\n",
    "        self.net = nn.Sequential(*layers)\n",
    "        \n",
    "    # def _initialize_weights(self):\n",
    "    #     for m in self.modules():\n",
    "    #         if isinstance(m, nn.Linear):\n",
    "    #             nn.init.xavier_normal_(m.weight)\n",
    "    #             nn.init.zeros_(m.bias)   \n",
    "                \n",
    "    def forward(self, x):\n",
    "        return self.net(x)"
   ],
   "id": "a187d50f58b16c3c",
   "outputs": [],
   "execution_count": 226
  },
  {
   "metadata": {},
   "cell_type": "markdown",
   "source": "## Definition of collocation points",
   "id": "abde8e173b18fd04"
  },
  {
   "metadata": {
    "ExecuteTime": {
     "end_time": "2025-05-31T06:21:03.927629Z",
     "start_time": "2025-05-31T06:21:03.924546Z"
    }
   },
   "cell_type": "code",
   "source": [
    "def generate_collocation_points(Nx=2**8, Nt = 2**8):\n",
    "    x = torch.linspace(-1,1, Nx)\n",
    "    t = torch.linspace(0,1,Nt)\n",
    "    X, T = torch.meshgrid(x,t, indexing='ij')\n",
    "    points = torch.stack([X.flatten(), T.flatten()], dim=-1)\n",
    "    points.requires_grad_(True)\n",
    "    return points, x,t "
   ],
   "id": "695e1edf6ee32e48",
   "outputs": [],
   "execution_count": 227
  },
  {
   "metadata": {
    "ExecuteTime": {
     "end_time": "2025-05-31T06:21:04.027802Z",
     "start_time": "2025-05-31T06:21:04.025786Z"
    }
   },
   "cell_type": "code",
   "source": "",
   "id": "929db924da802199",
   "outputs": [],
   "execution_count": null
  },
  {
   "metadata": {},
   "cell_type": "markdown",
   "source": "## Define Partial Differential Equation",
   "id": "21198b78447dae0d"
  },
  {
   "metadata": {
    "ExecuteTime": {
     "end_time": "2025-05-31T06:21:04.133986Z",
     "start_time": "2025-05-31T06:21:04.126360Z"
    }
   },
   "cell_type": "code",
   "source": [
    "def derivative(x,y):\n",
    "    df = torch.autograd.grad(x,y, grad_outputs=torch.ones_like(x).to(device), create_graph = True)[0]\n",
    "    df_x = df[:, 0:1]\n",
    "    df_t = df[:, 1:2]\n",
    "    return df_x, df_t\n",
    "\n",
    "def PDE(model, cp , points):\n",
    "    Temp = model(points)\n",
    "    dT_x, dT_t = derivative(Temp, points)\n",
    "    dT_xx, _ = derivative(dT_x, points)\n",
    "    pde = 1*(cp*dT_xx - dT_t)\n",
    "    return pde\n",
    "\n",
    "def PDE_with_source(model, cp, points, t):\n",
    "    pulse_pos = [0.10, 0.45, 0.80]\n",
    "    pump = torch.zeros_like(points)\n",
    "    for center in pulse_pos:\n",
    "        pump += torch.exp(-(t-center)**2/0.0005)\n",
    "    pump /= torch.max(pump)\n",
    "    pump = pump.to(device)\n",
    "    \n",
    "    Temp = model(points)\n",
    "    dT_x, dT_t = derivative(Temp, points)\n",
    "    dT_xx, _ = derivative(dT_x, points)\n",
    "    pde = 1*(cp*dT_xx - dT_t) + pump[points]\n",
    "    return pde\n",
    "\n",
    "## Dirichlet conditions\n",
    "def BC_right(model, right_border):\n",
    "    return model(right_border)\n",
    "    \n",
    "def BC_left(model, left_border):\n",
    "    return model(left_border)    \n",
    "    \n",
    "def IC(model, points):\n",
    "    return model(points)\n",
    "\n",
    "def compute_bc_ic_loss(model, bc_left_pt, bc_left_value, bc_right_pt, bc_right_value, ic_pt, ic_value):\n",
    "    term1 = torch.mean((BC_right(model, bc_right_pt)[:,0] - bc_right_value)**2)\n",
    "    term2 = torch.mean((BC_left(model, bc_left_pt)[:,0] - bc_left_value)**2)\n",
    "    term3 = torch.mean((IC(model, ic_pt) - ic_value)**2)\n",
    "    return term1 + term2 + 1000*term3 \n",
    "\n",
    "    "
   ],
   "id": "66726114b05dcb4c",
   "outputs": [],
   "execution_count": 228
  },
  {
   "metadata": {},
   "cell_type": "markdown",
   "source": "## Define border and initial conditions",
   "id": "a8b6a22c1298a66d"
  },
  {
   "metadata": {
    "ExecuteTime": {
     "end_time": "2025-05-31T06:21:04.330378Z",
     "start_time": "2025-05-31T06:21:04.322977Z"
    }
   },
   "cell_type": "code",
   "source": [
    "domain, x,t = generate_collocation_points(Nx=2**8, Nt=2**8)\n",
    "domain = domain.to(device)\n",
    "bc_right_pt = domain[domain[:,0] == -1].requires_grad_(True)\n",
    "bc_left_pt = domain[domain[:,0] == 1].requires_grad_(True)\n",
    "ic_pt = domain[domain[:,1] == 0].requires_grad_(True)\n",
    "sigma = 0.01\n",
    "ic_shift = 0.30\n",
    "signal = torch.exp(-(ic_pt-ic_shift)**2/sigma) + torch.exp(-(ic_pt+ic_shift)**2/sigma)\n",
    "# \n",
    "# pulse_pos = [0.10, 0.45, 0.80]\n",
    "# pump = torch.zeros_like(t)\n",
    "# for center in pulse_pos:\n",
    "#     pump += torch.exp(-(t-center)**2/0.0005)\n",
    "# pump /= torch.max(pump)\n",
    "# pump = pump.to(device)\n",
    "# # plt.plot(pump.detach().cpu().numpy())\n",
    "# # print(torch.exp(-(domain[:,0]**2)/0.01))\n",
    "# field = torch.exp(-(domain[:,0]**2)/0.01).reshape(2**8, 2**8)*pump\n",
    "# \n",
    "# \n",
    "# plt.scatter(domain[:,0].detach().cpu().numpy(), domain[:,1].detach().cpu().numpy(), c= field.detach().cpu().numpy(), cmap = 'jet')\n",
    "# \n",
    "# # plt.imshow(field.cpu().detach().cpu().numpy(), aspect = 'auto')\n",
    "#     \n",
    "# \n",
    "# def create_interpolated_function(X, Y, Z):\n",
    "#     \"\"\"\n",
    "#     Create a function that interpolates values from a 2D grid at given coordinates.\n",
    "#     \n",
    "#     Parameters:\n",
    "#     - X: 2D tensor, x-coordinates of the meshgrid (shape: m x n)\n",
    "#     - Y: 2D tensor, y-coordinates of the meshgrid (shape: m x n)\n",
    "#     - Z: 2D tensor, function values at meshgrid points (shape: m x n)\n",
    "#     \n",
    "#     Returns:\n",
    "#     - A callable function that takes a 2xN tensor of coordinates and returns interpolated values.\n",
    "#     \"\"\"\n",
    "#     # Ensure Z is in the correct shape for grid_sample: (batch, channels, height, width)\n",
    "#     Z = Z.unsqueeze(0).unsqueeze(0)  # Shape: (1, 1, m, n)\n",
    "#     \n",
    "#     # Get min and max for normalization\n",
    "#     x_min, x_max = X.min(), X.max()\n",
    "#     y_min, y_max = Y.min(), Y.max()\n",
    "#     \n",
    "#     def interpolate(coords):\n",
    "#         \"\"\"\n",
    "#         Interpolate function values at given coordinates.\n",
    "#         \n",
    "#         Parameters:\n",
    "#         - coords: 2xN tensor, where first row is x-coordinates, second row is y-coordinates\n",
    "#         \n",
    "#         Returns:\n",
    "#         - Tensor of interpolated values (shape: N)\n",
    "#         \"\"\"\n",
    "#         # Normalize coordinates to [-1, 1] for grid_sample\n",
    "#         x_norm = (coords[0] - x_min) / (x_max - x_min) * 2 - 1\n",
    "#         y_norm = (coords[1] - y_min) / (y_max - y_min) * 2 - 1\n",
    "#         # Stack and reshape grid to [1, 1, N, 2] for grid_sample\n",
    "#         grid = torch.stack([x_norm, y_norm], dim=-1).unsqueeze(1)  # Shape: (1, 1, N, 2)\n",
    "#         \n",
    "#         # Perform bilinear interpolation\n",
    "#         interpolated = F.grid_sample(Z, grid, mode='bilinear', align_corners=True)\n",
    "#         return interpolated.squeeze()  # Shape: (N,)\n",
    "#     \n",
    "#     return interpolate\n",
    "# \n",
    "# # Example usage\n",
    "# # Create a sample meshgrid\n",
    "# x = torch.linspace(-1, 1, 10)\n",
    "# y = torch.linspace(-1, 1, 10)\n",
    "# X, Y = torch.meshgrid(x, y, indexing='ij')\n",
    "# Z = torch.sin(X) * torch.cos(Y)  # Example function values\n",
    "# \n",
    "# # Create the interpolation function\n",
    "# f = create_interpolated_function(X, Y, Z)\n",
    "# \n",
    "# # Test with a 2xN tensor of coordinates\n",
    "# test_coords = torch.tensor([[0.5, -0.5, 0.0], [0.5, -0.5, 0.0]])\n",
    "# values = f(test_coords)\n",
    "# print(\"Interpolated values:\", values)\n",
    "\n",
    "\n",
    "\n",
    "\n"
   ],
   "id": "782fb239c60dbc11",
   "outputs": [],
   "execution_count": 229
  },
  {
   "metadata": {},
   "cell_type": "markdown",
   "source": "## Training PINN",
   "id": "f8adfc625ac2d67"
  },
  {
   "metadata": {
    "ExecuteTime": {
     "end_time": "2025-05-31T06:29:04.596152Z",
     "start_time": "2025-05-31T06:21:04.335385Z"
    }
   },
   "cell_type": "code",
   "source": [
    "model = termPINN_1D(2,10).to(device)\n",
    "optimizer = torch.optim.Adam(model.parameters(), lr=1e-3)\n",
    "epoches = 10000\n",
    "loss_eval = []\n",
    "for epoch in range(epoches):\n",
    "    optimizer.zero_grad()\n",
    "    pde_residual = PDE(model, 0.1, domain)\n",
    "    pde_loss = torch.mean(pde_residual**2)\n",
    "    bc_ic_loss = compute_bc_ic_loss(model, bc_left_pt, 0, bc_right_pt, 0, ic_pt, signal)\n",
    "    loss = pde_loss + bc_ic_loss\n",
    "    loss.backward(retain_graph=True)\n",
    "    optimizer.step()\n",
    "    loss_eval.append(loss.item())"
   ],
   "id": "5e58a8a6e72861b",
   "outputs": [],
   "execution_count": 230
  },
  {
   "metadata": {
    "ExecuteTime": {
     "end_time": "2025-05-31T06:29:04.823400Z",
     "start_time": "2025-05-31T06:29:04.747909Z"
    }
   },
   "cell_type": "code",
   "source": "plt.plot(loss_eval)",
   "id": "f76d175ddb346a26",
   "outputs": [
    {
     "data": {
      "text/plain": [
       "[<matplotlib.lines.Line2D at 0x2a9364574d0>]"
      ]
     },
     "execution_count": 231,
     "metadata": {},
     "output_type": "execute_result"
    },
    {
     "data": {
      "text/plain": [
       "<Figure size 640x480 with 1 Axes>"
      ],
      "image/png": "[encoded data removed]"
     },
     "metadata": {},
     "output_type": "display_data"
    }
   ],
   "execution_count": 231
  },
  {
   "metadata": {
    "ExecuteTime": {
     "end_time": "2025-05-31T06:29:06.205990Z",
     "start_time": "2025-05-31T06:29:04.921518Z"
    }
   },
   "cell_type": "code",
   "source": [
    "temp_dist = model(domain)\n",
    "# temp_dist.reshape(100, 2**8)\n",
    "plt.scatter(domain[:,0].detach().cpu().numpy(), domain[:,1].detach().cpu().numpy(), c= temp_dist.detach().cpu().numpy(), cmap = 'jet')\n",
    "plt.colorbar()\n",
    "\n",
    "\n",
    "\n",
    "\n",
    "# plt.imshow(temp_dist.detach().numpy(), aspect='auto', cmap = 'jet')\n",
    "# print(len(temp_dist))\n",
    "# plt.plot(temp_dist[:10000000000].detach().numpy())# plt.imshow(temp_dist.detach().numpy(), aspect='auto')"
   ],
   "id": "5759649e703e80c4",
   "outputs": [
    {
     "data": {
      "text/plain": [
       "<matplotlib.colorbar.Colorbar at 0x2a93566ead0>"
      ]
     },
     "execution_count": 232,
     "metadata": {},
     "output_type": "execute_result"
    },
    {
     "data": {
      "text/plain": [
       "<Figure size 640x480 with 2 Axes>"
      ],
      "image/png": "[encoded data removed]"
     },
     "metadata": {},
     "output_type": "display_data"
    }
   ],
   "execution_count": 232
  },
  {
   "metadata": {
    "ExecuteTime": {
     "end_time": "2025-05-31T06:29:06.300397Z",
     "start_time": "2025-05-31T06:29:06.298610Z"
    }
   },
   "cell_type": "code",
   "source": "",
   "id": "d3b8f3bd57b4f33b",
   "outputs": [],
   "execution_count": null
  },
  {
   "metadata": {
    "ExecuteTime": {
     "end_time": "2025-05-31T06:29:06.401642Z",
     "start_time": "2025-05-31T06:29:06.392118Z"
    }
   },
   "cell_type": "code",
   "source": "print(bc_right_pt)",
   "id": "f68c9ecca752956b",
   "outputs": [
    {
     "name": "stdout",
     "output_type": "stream",
     "text": [
      "tensor([[-1.0000,  0.0000],\n",
      "        [-1.0000,  0.0039],\n",
      "        [-1.0000,  0.0078],\n",
      "        [-1.0000,  0.0118],\n",
      "        [-1.0000,  0.0157],\n",
      "        [-1.0000,  0.0196],\n",
      "        [-1.0000,  0.0235],\n",
      "        [-1.0000,  0.0275],\n",
      "        [-1.0000,  0.0314],\n",
      "        [-1.0000,  0.0353],\n",
      "        [-1.0000,  0.0392],\n",
      "        [-1.0000,  0.0431],\n",
      "        [-1.0000,  0.0471],\n",
      "        [-1.0000,  0.0510],\n",
      "        [-1.0000,  0.0549],\n",
      "        [-1.0000,  0.0588],\n",
      "        [-1.0000,  0.0627],\n",
      "        [-1.0000,  0.0667],\n",
      "        [-1.0000,  0.0706],\n",
      "        [-1.0000,  0.0745],\n",
      "        [-1.0000,  0.0784],\n",
      "        [-1.0000,  0.0824],\n",
      "        [-1.0000,  0.0863],\n",
      "        [-1.0000,  0.0902],\n",
      "        [-1.0000,  0.0941],\n",
      "        [-1.0000,  0.0980],\n",
      "        [-1.0000,  0.1020],\n",
      "        [-1.0000,  0.1059],\n",
      "        [-1.0000,  0.1098],\n",
      "        [-1.0000,  0.1137],\n",
      "        [-1.0000,  0.1176],\n",
      "        [-1.0000,  0.1216],\n",
      "        [-1.0000,  0.1255],\n",
      "        [-1.0000,  0.1294],\n",
      "        [-1.0000,  0.1333],\n",
      "        [-1.0000,  0.1373],\n",
      "        [-1.0000,  0.1412],\n",
      "        [-1.0000,  0.1451],\n",
      "        [-1.0000,  0.1490],\n",
      "        [-1.0000,  0.1529],\n",
      "        [-1.0000,  0.1569],\n",
      "        [-1.0000,  0.1608],\n",
      "        [-1.0000,  0.1647],\n",
      "        [-1.0000,  0.1686],\n",
      "        [-1.0000,  0.1725],\n",
      "        [-1.0000,  0.1765],\n",
      "        [-1.0000,  0.1804],\n",
      "        [-1.0000,  0.1843],\n",
      "        [-1.0000,  0.1882],\n",
      "        [-1.0000,  0.1922],\n",
      "        [-1.0000,  0.1961],\n",
      "        [-1.0000,  0.2000],\n",
      "        [-1.0000,  0.2039],\n",
      "        [-1.0000,  0.2078],\n",
      "        [-1.0000,  0.2118],\n",
      "        [-1.0000,  0.2157],\n",
      "        [-1.0000,  0.2196],\n",
      "        [-1.0000,  0.2235],\n",
      "        [-1.0000,  0.2275],\n",
      "        [-1.0000,  0.2314],\n",
      "        [-1.0000,  0.2353],\n",
      "        [-1.0000,  0.2392],\n",
      "        [-1.0000,  0.2431],\n",
      "        [-1.0000,  0.2471],\n",
      "        [-1.0000,  0.2510],\n",
      "        [-1.0000,  0.2549],\n",
      "        [-1.0000,  0.2588],\n",
      "        [-1.0000,  0.2627],\n",
      "        [-1.0000,  0.2667],\n",
      "        [-1.0000,  0.2706],\n",
      "        [-1.0000,  0.2745],\n",
      "        [-1.0000,  0.2784],\n",
      "        [-1.0000,  0.2824],\n",
      "        [-1.0000,  0.2863],\n",
      "        [-1.0000,  0.2902],\n",
      "        [-1.0000,  0.2941],\n",
      "        [-1.0000,  0.2980],\n",
      "        [-1.0000,  0.3020],\n",
      "        [-1.0000,  0.3059],\n",
      "        [-1.0000,  0.3098],\n",
      "        [-1.0000,  0.3137],\n",
      "        [-1.0000,  0.3176],\n",
      "        [-1.0000,  0.3216],\n",
      "        [-1.0000,  0.3255],\n",
      "        [-1.0000,  0.3294],\n",
      "        [-1.0000,  0.3333],\n",
      "        [-1.0000,  0.3373],\n",
      "        [-1.0000,  0.3412],\n",
      "        [-1.0000,  0.3451],\n",
      "        [-1.0000,  0.3490],\n",
      "        [-1.0000,  0.3529],\n",
      "        [-1.0000,  0.3569],\n",
      "        [-1.0000,  0.3608],\n",
      "        [-1.0000,  0.3647],\n",
      "        [-1.0000,  0.3686],\n",
      "        [-1.0000,  0.3725],\n",
      "        [-1.0000,  0.3765],\n",
      "        [-1.0000,  0.3804],\n",
      "        [-1.0000,  0.3843],\n",
      "        [-1.0000,  0.3882],\n",
      "        [-1.0000,  0.3922],\n",
      "        [-1.0000,  0.3961],\n",
      "        [-1.0000,  0.4000],\n",
      "        [-1.0000,  0.4039],\n",
      "        [-1.0000,  0.4078],\n",
      "        [-1.0000,  0.4118],\n",
      "        [-1.0000,  0.4157],\n",
      "        [-1.0000,  0.4196],\n",
      "        [-1.0000,  0.4235],\n",
      "        [-1.0000,  0.4275],\n",
      "        [-1.0000,  0.4314],\n",
      "        [-1.0000,  0.4353],\n",
      "        [-1.0000,  0.4392],\n",
      "        [-1.0000,  0.4431],\n",
      "        [-1.0000,  0.4471],\n",
      "        [-1.0000,  0.4510],\n",
      "        [-1.0000,  0.4549],\n",
      "        [-1.0000,  0.4588],\n",
      "        [-1.0000,  0.4627],\n",
      "        [-1.0000,  0.4667],\n",
      "        [-1.0000,  0.4706],\n",
      "        [-1.0000,  0.4745],\n",
      "        [-1.0000,  0.4784],\n",
      "        [-1.0000,  0.4824],\n",
      "        [-1.0000,  0.4863],\n",
      "        [-1.0000,  0.4902],\n",
      "        [-1.0000,  0.4941],\n",
      "        [-1.0000,  0.4980],\n",
      "        [-1.0000,  0.5020],\n",
      "        [-1.0000,  0.5059],\n",
      "        [-1.0000,  0.5098],\n",
      "        [-1.0000,  0.5137],\n",
      "        [-1.0000,  0.5176],\n",
      "        [-1.0000,  0.5216],\n",
      "        [-1.0000,  0.5255],\n",
      "        [-1.0000,  0.5294],\n",
      "        [-1.0000,  0.5333],\n",
      "        [-1.0000,  0.5373],\n",
      "        [-1.0000,  0.5412],\n",
      "        [-1.0000,  0.5451],\n",
      "        [-1.0000,  0.5490],\n",
      "        [-1.0000,  0.5529],\n",
      "        [-1.0000,  0.5569],\n",
      "        [-1.0000,  0.5608],\n",
      "        [-1.0000,  0.5647],\n",
      "        [-1.0000,  0.5686],\n",
      "        [-1.0000,  0.5725],\n",
      "        [-1.0000,  0.5765],\n",
      "        [-1.0000,  0.5804],\n",
      "        [-1.0000,  0.5843],\n",
      "        [-1.0000,  0.5882],\n",
      "        [-1.0000,  0.5922],\n",
      "        [-1.0000,  0.5961],\n",
      "        [-1.0000,  0.6000],\n",
      "        [-1.0000,  0.6039],\n",
      "        [-1.0000,  0.6078],\n",
      "        [-1.0000,  0.6118],\n",
      "        [-1.0000,  0.6157],\n",
      "        [-1.0000,  0.6196],\n",
      "        [-1.0000,  0.6235],\n",
      "        [-1.0000,  0.6275],\n",
      "        [-1.0000,  0.6314],\n",
      "        [-1.0000,  0.6353],\n",
      "        [-1.0000,  0.6392],\n",
      "        [-1.0000,  0.6431],\n",
      "        [-1.0000,  0.6471],\n",
      "        [-1.0000,  0.6510],\n",
      "        [-1.0000,  0.6549],\n",
      "        [-1.0000,  0.6588],\n",
      "        [-1.0000,  0.6627],\n",
      "        [-1.0000,  0.6667],\n",
      "        [-1.0000,  0.6706],\n",
      "        [-1.0000,  0.6745],\n",
      "        [-1.0000,  0.6784],\n",
      "        [-1.0000,  0.6824],\n",
      "        [-1.0000,  0.6863],\n",
      "        [-1.0000,  0.6902],\n",
      "        [-1.0000,  0.6941],\n",
      "        [-1.0000,  0.6980],\n",
      "        [-1.0000,  0.7020],\n",
      "        [-1.0000,  0.7059],\n",
      "        [-1.0000,  0.7098],\n",
      "        [-1.0000,  0.7137],\n",
      "        [-1.0000,  0.7176],\n",
      "        [-1.0000,  0.7216],\n",
      "        [-1.0000,  0.7255],\n",
      "        [-1.0000,  0.7294],\n",
      "        [-1.0000,  0.7333],\n",
      "        [-1.0000,  0.7373],\n",
      "        [-1.0000,  0.7412],\n",
      "        [-1.0000,  0.7451],\n",
      "        [-1.0000,  0.7490],\n",
      "        [-1.0000,  0.7529],\n",
      "        [-1.0000,  0.7569],\n",
      "        [-1.0000,  0.7608],\n",
      "        [-1.0000,  0.7647],\n",
      "        [-1.0000,  0.7686],\n",
      "        [-1.0000,  0.7725],\n",
      "        [-1.0000,  0.7765],\n",
      "        [-1.0000,  0.7804],\n",
      "        [-1.0000,  0.7843],\n",
      "        [-1.0000,  0.7882],\n",
      "        [-1.0000,  0.7922],\n",
      "        [-1.0000,  0.7961],\n",
      "        [-1.0000,  0.8000],\n",
      "        [-1.0000,  0.8039],\n",
      "        [-1.0000,  0.8078],\n",
      "        [-1.0000,  0.8118],\n",
      "        [-1.0000,  0.8157],\n",
      "        [-1.0000,  0.8196],\n",
      "        [-1.0000,  0.8235],\n",
      "        [-1.0000,  0.8275],\n",
      "        [-1.0000,  0.8314],\n",
      "        [-1.0000,  0.8353],\n",
      "        [-1.0000,  0.8392],\n",
      "        [-1.0000,  0.8431],\n",
      "        [-1.0000,  0.8471],\n",
      "        [-1.0000,  0.8510],\n",
      "        [-1.0000,  0.8549],\n",
      "        [-1.0000,  0.8588],\n",
      "        [-1.0000,  0.8627],\n",
      "        [-1.0000,  0.8667],\n",
      "        [-1.0000,  0.8706],\n",
      "        [-1.0000,  0.8745],\n",
      "        [-1.0000,  0.8784],\n",
      "        [-1.0000,  0.8824],\n",
      "        [-1.0000,  0.8863],\n",
      "        [-1.0000,  0.8902],\n",
      "        [-1.0000,  0.8941],\n",
      "        [-1.0000,  0.8980],\n",
      "        [-1.0000,  0.9020],\n",
      "        [-1.0000,  0.9059],\n",
      "        [-1.0000,  0.9098],\n",
      "        [-1.0000,  0.9137],\n",
      "        [-1.0000,  0.9176],\n",
      "        [-1.0000,  0.9216],\n",
      "        [-1.0000,  0.9255],\n",
      "        [-1.0000,  0.9294],\n",
      "        [-1.0000,  0.9333],\n",
      "        [-1.0000,  0.9373],\n",
      "        [-1.0000,  0.9412],\n",
      "        [-1.0000,  0.9451],\n",
      "        [-1.0000,  0.9490],\n",
      "        [-1.0000,  0.9529],\n",
      "        [-1.0000,  0.9569],\n",
      "        [-1.0000,  0.9608],\n",
      "        [-1.0000,  0.9647],\n",
      "        [-1.0000,  0.9686],\n",
      "        [-1.0000,  0.9725],\n",
      "        [-1.0000,  0.9765],\n",
      "        [-1.0000,  0.9804],\n",
      "        [-1.0000,  0.9843],\n",
      "        [-1.0000,  0.9882],\n",
      "        [-1.0000,  0.9922],\n",
      "        [-1.0000,  0.9961],\n",
      "        [-1.0000,  1.0000]], grad_fn=<IndexBackward0>)\n"
     ]
    }
   ],
   "execution_count": 233
  }
 ],
 "metadata": {
  "kernelspec": {
   "display_name": "Python 3",
   "language": "python",
   "name": "python3"
  },
  "language_info": {
   "codemirror_mode": {
    "name": "ipython",
    "version": 2
   },
   "file_extension": ".py",
   "mimetype": "text/x-python",
   "name": "python",
   "nbconvert_exporter": "python",
   "pygments_lexer": "ipython2",
   "version": "2.7.6"
  }
 },
 "nbformat": 4,
 "nbformat_minor": 5
}
